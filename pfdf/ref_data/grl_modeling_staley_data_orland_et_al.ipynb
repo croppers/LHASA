{
  "cells": [
    {
      "cell_type": "code",
      "execution_count": 1,
      "metadata": {
        "colab": {
          "base_uri": "https://localhost:8080/"
        },
        "id": "QeM_BiesQWww",
        "outputId": "0c85f3b6-4827-4c88-be8b-d85c23286543"
      },
      "outputs": [
        {
          "output_type": "stream",
          "name": "stdout",
          "text": [
            "\u001b[K     |████████████████████████████████| 1.0 MB 14.0 MB/s \n",
            "\u001b[K     |████████████████████████████████| 16.7 MB 271 kB/s \n",
            "\u001b[K     |████████████████████████████████| 6.3 MB 42.0 MB/s \n",
            "\u001b[K     |████████████████████████████████| 192.9 MB 81 kB/s \n",
            "\u001b[?25hMounted at /content/drive\n"
          ]
        }
      ],
      "source": [
        "! pip install geopandas -q\n",
        "! pip install --upgrade xgboost -q\n",
        "! pip install --upgrade mapclassify -q\n",
        "import geopandas as gpd\n",
        "import numpy as np\n",
        "import pandas as pd\n",
        "from matplotlib import pyplot as plt\n",
        "from scipy import stats\n",
        "from shapely.geometry import shape\n",
        "import json\n",
        "import folium\n",
        "from sklearn.metrics import r2_score\n",
        "\n",
        "# connect to drive\n",
        "from google.colab import drive\n",
        "drive.mount('/content/drive',force_remount=True)"
      ]
    },
    {
      "cell_type": "markdown",
      "source": [
        "Load in various data sources to reference later:"
      ],
      "metadata": {
        "id": "W9CFsW4cbl-D"
      }
    },
    {
      "cell_type": "code",
      "execution_count": 2,
      "metadata": {
        "id": "FVs5chqqRxqq"
      },
      "outputs": [],
      "source": [
        "# IMERG data to be eventually be used for modeling...\n",
        "# Has rainfall but missing basin characteristics\n",
        "gdf = gpd.read_file((\n",
        "'/content/drive/My Drive/staley_basins_w_imerg_redo_20pct_thresh_w_RI.geojson'))\n",
        "\n",
        "# Data for Beechworth DF\n",
        "aus_ts = gpd.read_file('/content/drive/My Drive/aus_beechworth_ts.geojson')\n",
        "\n",
        "# Original data generated from GEE recording basin characteristics\n",
        "# Note: Missing rainfall\n",
        "df = pd.read_csv(\n",
        "'/content/drive/My Drive/staley_pts_w_basin_comp_redo_20pct_thresh_6mnth_times_redo.csv')\n",
        "\n",
        "gdf.set_index('PtIndex',inplace=True)\n",
        "df.set_index('PtIndex',inplace=True)"
      ]
    },
    {
      "cell_type": "code",
      "execution_count": 3,
      "metadata": {
        "id": "jQtAHe1FJdiG"
      },
      "outputs": [],
      "source": [
        "# Drop areas where Staley et al. had no recorded data\n",
        "gdf.drop(gdf[gdf['Peak_I30_mm/h']==0].index,inplace=True)"
      ]
    },
    {
      "cell_type": "code",
      "execution_count": 4,
      "metadata": {
        "id": "NOaaWKnPJa5q"
      },
      "outputs": [],
      "source": [
        "# add in a few missing values from one file to another\n",
        "# gdf has rainfall but is missing the newly generated burn and slope data.\n",
        "# add these in for each basin from the file recording these characteristics\n",
        "def add_properties(row):\n",
        "  idx = row.name\n",
        "  df_data = df.loc[idx]\n",
        "  row['Mean_dNBR'] = df_data['Mean_dNBR']\n",
        "  row['Mean_dNBR_yr'] = df_data['Mean_dNBR_yr']\n",
        "  row['SlopeBurnAreaRatio'] = df_data['SlopeBurnAreaRatio']\n",
        "  row['SlopeBurnAreaRatio_yr'] = df_data['SlopeBurnAreaRatio_yr']\n",
        "  row['Visibility'] = df_data['Visibility']\n",
        "  row['Visibility_yr'] = df_data['Visibility_yr']\n",
        "  row['MedianSlope'] = df_data['MedianSlope']\n",
        "  row['MeanPropLAI'] = df_data['Mean_dLAI']\n",
        "  return row"
      ]
    },
    {
      "cell_type": "code",
      "execution_count": 5,
      "metadata": {
        "colab": {
          "base_uri": "https://localhost:8080/"
        },
        "id": "kDZTpUTdJzps",
        "outputId": "fbf643fc-3526-4b93-8299-9cb1d7b3cc8f"
      },
      "outputs": [
        {
          "output_type": "stream",
          "name": "stdout",
          "text": [
            "627\n"
          ]
        }
      ],
      "source": [
        "gdf = gdf.apply(add_properties,axis=1)\n",
        "print(len(gdf))"
      ]
    },
    {
      "cell_type": "code",
      "execution_count": 6,
      "metadata": {
        "id": "ljX-_vvP9LnK"
      },
      "outputs": [],
      "source": [
        "# few other features\n",
        "gdf['IntensityDiff'] = abs(gdf['MaxVal'] - gdf['Peak_I30_mm/h'])\n",
        "gdf['SumDiff'] = abs(gdf['SumVal'] - gdf['StormAccum_mm'])\n",
        "gdf['PropBelowYrMax'] = gdf['MaxVal'] / gdf['RIClosestVal']"
      ]
    },
    {
      "cell_type": "markdown",
      "source": [
        "The following code blocks are for generating Figure 2 and reporting the results of the Mann-Whitney U test:\n",
        "\n"
      ],
      "metadata": {
        "id": "hID2_cFde2UV"
      }
    },
    {
      "cell_type": "code",
      "execution_count": 11,
      "metadata": {
        "id": "p4OvhGwC9fRD"
      },
      "outputs": [],
      "source": [
        "cols = ['MaxVal','Peak_I30_mm/h','StormDur_H']\n",
        "ca = gdf[gdf['Database']=='Training']\n",
        "ius = gdf[gdf['Database']!='Training']\n",
        "\n",
        "ca_pos = ca[ca['Response']==1].index\n",
        "ca_neg = ca[ca['Response']!=1].index\n",
        "ius_pos = ius[ius['Response']==1].index\n",
        "ius_neg = ius[ius['Response']!=1].index"
      ]
    },
    {
      "cell_type": "code",
      "execution_count": 12,
      "metadata": {
        "colab": {
          "base_uri": "https://localhost:8080/"
        },
        "id": "B2CWw98mcft6",
        "outputId": "4cd631e6-e702-4eec-e296-17ae82dbb558"
      },
      "outputs": [
        {
          "output_type": "stream",
          "name": "stdout",
          "text": [
            "p value: 1.8032332806138384e-15\n"
          ]
        }
      ],
      "source": [
        "# Stats from Mann-Whitney U test:\n",
        "from scipy.stats import mannwhitneyu\n",
        "\n",
        "pos = gdf[gdf['Response']==1].index\n",
        "neg = gdf[gdf['Response']!=1].index\n",
        "\n",
        "U1, p = mannwhitneyu(gdf.loc[pos,'MaxVal'], gdf.loc[neg,'MaxVal'])\n",
        "print(\"p value:\",p)"
      ]
    },
    {
      "cell_type": "code",
      "execution_count": 13,
      "metadata": {
        "colab": {
          "base_uri": "https://localhost:8080/",
          "height": 496
        },
        "id": "1938zwWcEuH7",
        "outputId": "7ea16b9e-4884-43bd-9e87-efdf3974c6a0"
      },
      "outputs": [
        {
          "output_type": "stream",
          "name": "stderr",
          "text": [
            "/usr/local/lib/python3.7/dist-packages/matplotlib/cbook/__init__.py:1376: VisibleDeprecationWarning: Creating an ndarray from ragged nested sequences (which is a list-or-tuple of lists-or-tuples-or ndarrays with different lengths or shapes) is deprecated. If you meant to do this, you must specify 'dtype=object' when creating the ndarray.\n",
            "  X = np.atleast_1d(X.T if isinstance(X, np.ndarray) else np.asarray(X))\n",
            "/usr/local/lib/python3.7/dist-packages/matplotlib/cbook/__init__.py:1376: VisibleDeprecationWarning: Creating an ndarray from ragged nested sequences (which is a list-or-tuple of lists-or-tuples-or ndarrays with different lengths or shapes) is deprecated. If you meant to do this, you must specify 'dtype=object' when creating the ndarray.\n",
            "  X = np.atleast_1d(X.T if isinstance(X, np.ndarray) else np.asarray(X))\n",
            "/usr/local/lib/python3.7/dist-packages/matplotlib/cbook/__init__.py:1376: VisibleDeprecationWarning: Creating an ndarray from ragged nested sequences (which is a list-or-tuple of lists-or-tuples-or ndarrays with different lengths or shapes) is deprecated. If you meant to do this, you must specify 'dtype=object' when creating the ndarray.\n",
            "  X = np.atleast_1d(X.T if isinstance(X, np.ndarray) else np.asarray(X))\n"
          ]
        },
        {
          "output_type": "display_data",
          "data": {
            "text/plain": [
              "<Figure size 648x360 with 3 Axes>"
            ],
            "image/png": "[encoded data removed]"
          },
          "metadata": {
            "needs_background": "light"
          }
        }
      ],
      "source": [
        "# Fig 2a-c\n",
        "fig, ax = plt.subplots(1,len(cols),figsize=(9,5))\n",
        "for i in range(0,len(cols)):\n",
        "  ax[i].boxplot(x=[ca.loc[ca_pos,cols[i]].dropna(),\n",
        "                   ca.loc[ca_neg,cols[i]].dropna(),\n",
        "                   ius.loc[ius_pos,cols[i]].dropna(),\n",
        "                   ius.loc[ius_neg,cols[i]].dropna()],\n",
        "                labels=['CA DF','CA No DF','IUS DF','IUS No DF'])\n",
        "  ax[i].set_title(cols[i])\n",
        "  ax[i].set_ylim(-1,80)\n",
        "fig.tight_layout()\n",
        "plt.savefig('imerg_staley_rain_intensity_comparison.png',dpi=500)\n",
        "plt.show()"
      ]
    },
    {
      "cell_type": "code",
      "execution_count": 14,
      "metadata": {
        "colab": {
          "base_uri": "https://localhost:8080/",
          "height": 410
        },
        "id": "1uuueV8QeTVI",
        "outputId": "ccb48098-85d9-425e-c943-cceb1dd8a1f4"
      },
      "outputs": [
        {
          "output_type": "stream",
          "name": "stdout",
          "text": [
            "SpearmanrResult(correlation=0.4016824782314079, pvalue=1.1914188160150237e-19)\n",
            "SpearmanrResult(correlation=0.4074982710720193, pvalue=1.1780582794371678e-07)\n"
          ]
        },
        {
          "output_type": "display_data",
          "data": {
            "text/plain": [
              "<Figure size 576x432 with 2 Axes>"
            ],
            "image/png": "[encoded data removed]"
          },
          "metadata": {
            "needs_background": "light"
          }
        }
      ],
      "source": [
        "from scipy import stats\n",
        "fig, ax = plt.subplots(1,2,figsize=(8,6))\n",
        "\n",
        "\n",
        "ones = np.linspace(0,70,100)\n",
        "ax[0].scatter(ca['Peak_I30_mm/h'],ca['MaxVal'],c='black',label='CA')\n",
        "ax[1].scatter(ius['Peak_I30_mm/h'],ius['MaxVal'],c='black',label='IUS',marker='o')\n",
        "ax[0].plot(ones,ones,color='k',linestyle='--',alpha=0.25)\n",
        "ax[1].plot(ones,ones,color='k',linestyle='--',alpha=0.25)\n",
        "\n",
        "\n",
        "print(stats.spearmanr(ca['Peak_I30_mm/h'], ca['MaxVal']))\n",
        "print(stats.spearmanr(ius['Peak_I30_mm/h'], ius['MaxVal']))\n",
        "\n",
        "#fig.savefig('figure_2de.png',dpi=400)\n",
        "plt.show()"
      ]
    },
    {
      "cell_type": "code",
      "execution_count": 15,
      "metadata": {
        "id": "vGku2ewLC-Tf"
      },
      "outputs": [],
      "source": [
        "# Some areas never get a fully cloud-free mosaic before the storm\n",
        "# For those, a 6-month mosaic value is used instead\n",
        "\n",
        "# \"Visibility\" is the ratio of clear pixels to all available pixels.\n",
        "# Anything below 95% visibility is replaced with the 6 month value.\n",
        "# Note: the '_yr' is an artifact of the original variables used in the \n",
        "# generating script. These are actually 6 month mosaic values.  \n",
        "low_vis = gdf[gdf['Visibility']<0.95] \n",
        "gdf.loc[low_vis.index,'Mean_dNBR'] = gdf.loc[low_vis.index,'Mean_dNBR_yr']\n",
        "gdf.loc[low_vis.index,'SlopeburnAreaRatio'] = gdf.loc[low_vis.index,'SlopeBurnAreaRatio_yr']"
      ]
    },
    {
      "cell_type": "code",
      "execution_count": 16,
      "metadata": {
        "id": "tOSU--PMTRb5",
        "colab": {
          "base_uri": "https://localhost:8080/"
        },
        "outputId": "41251343-223a-4eb2-fff1-4f27091ad0ac"
      },
      "outputs": [
        {
          "output_type": "stream",
          "name": "stdout",
          "text": [
            "Data shape before dropping remaining cloudy areas: (627, 63)\n",
            "Data shape after dropping remaining cloudy areas: (622, 63)\n"
          ]
        }
      ],
      "source": [
        "# Sometimes, no image meets the visibility standard. \n",
        "# These are dropped entirely. \n",
        "print('Data shape before dropping remaining cloudy areas:', gdf.shape)\n",
        "gdf.drop(gdf[gdf['Visibility_yr']<0.95].index,inplace=True)\n",
        "print('Data shape after dropping remaining cloudy areas:', gdf.shape)"
      ]
    },
    {
      "cell_type": "markdown",
      "source": [
        "This the below code blocks are for the generation of the Figure 1a."
      ],
      "metadata": {
        "id": "5sBf2Mptjvim"
      }
    },
    {
      "cell_type": "code",
      "execution_count": 19,
      "metadata": {
        "id": "T51dFdEwTLXu"
      },
      "outputs": [],
      "source": [
        "# all unique basin area/storm values - don't want any duplicates\n",
        "# in the summary statistics!\n",
        "gdf_c = gdf.loc[gdf[['ContributingArea_km2','StormEnd']].drop_duplicates().index]"
      ]
    },
    {
      "cell_type": "code",
      "execution_count": 21,
      "metadata": {
        "colab": {
          "base_uri": "https://localhost:8080/",
          "height": 406
        },
        "id": "DMQMQWRL7mTc",
        "outputId": "ff9c52a5-fa7c-4255-c090-bd9824fb7318"
      },
      "outputs": [
        {
          "output_type": "stream",
          "name": "stdout",
          "text": [
            "SpearmanrResult(correlation=0.9984411830084011, pvalue=0.0)\n"
          ]
        },
        {
          "output_type": "display_data",
          "data": {
            "text/plain": [
              "<Figure size 576x432 with 1 Axes>"
            ],
            "image/png": "[encoded data removed]"
          },
          "metadata": {
            "needs_background": "light"
          }
        }
      ],
      "source": [
        "from sklearn.metrics import r2_score\n",
        "\n",
        "# correlation for manual basin areas and areas reported by staley et al.\n",
        "print(stats.spearmanr(gdf_c['ContributingArea_km2'], gdf_c['AreaSqKm']))\n",
        "\n",
        "# Make Fig 1a\n",
        "plt.figure(figsize=(8,6))\n",
        "plt.scatter(gdf_c['ContributingArea_km2'],gdf_c['AreaSqKm'],color='k')\n",
        "plt.xlabel('USGS Recorded Area (KM2)')\n",
        "plt.ylabel('Generated Basin Area (KM2)')\n",
        "ones = np.linspace(0,8,100)\n",
        "plt.plot(ones,ones,label='1:1',color='k')\n",
        "plt.legend()\n",
        "plt.show()\n",
        "#plt.savefig('staley_basin_area_comp.png',dpi=600)"
      ]
    },
    {
      "cell_type": "markdown",
      "source": [
        "The below code blocks provide a walkthrough of how modeling occured:"
      ],
      "metadata": {
        "id": "PK1P--ct3fV_"
      }
    },
    {
      "cell_type": "code",
      "source": [
        "# sample cols to use for the model\n",
        "cols = ['Mean_dNBR','SlopeBurnAreaRatio','MaxVal']\n",
        "pos = gdf[gdf['Response']==1].index\n",
        "neg = gdf[gdf['Response']==0].index"
      ],
      "metadata": {
        "id": "0O5GDeThkmhj"
      },
      "execution_count": 26,
      "outputs": []
    },
    {
      "cell_type": "code",
      "execution_count": 27,
      "metadata": {
        "colab": {
          "base_uri": "https://localhost:8080/"
        },
        "id": "C_IooBRrZEu2",
        "outputId": "46bb49de-c3f6-47e1-ed56-f5d6dbce5e9f"
      },
      "outputs": [
        {
          "output_type": "stream",
          "name": "stdout",
          "text": [
            "(618, 3)\n"
          ]
        }
      ],
      "source": [
        "features = gdf[cols].drop_duplicates()  \n",
        "targets = gdf.loc[features.index,'Response']\n",
        "print(features.shape)"
      ]
    },
    {
      "cell_type": "code",
      "execution_count": 28,
      "metadata": {
        "id": "RZLjQlYGbmYI"
      },
      "outputs": [],
      "source": [
        "# Helper Function. Not all of it is being used -- \n",
        "# mostly just used for the threat score here\n",
        "def get_metrics(test_targets, probs):\n",
        "  fpr, tpr, thresholds = metrics.roc_curve(test_targets, probs, pos_label=1)\n",
        "  thresholds[0] = thresholds[0]-1\n",
        "\n",
        "  auc = []\n",
        "  ts = []\n",
        "  fps = []\n",
        "  tps = []\n",
        "  tns = []\n",
        "  fns = []\n",
        "  for thresh in thresholds:\n",
        "    pred_list = []\n",
        "    for prob in probs:\n",
        "      if prob >= thresh:\n",
        "        pred_list.append(1)\n",
        "      else:\n",
        "        pred_list.append(0)\n",
        "    cm = confusion_matrix(test_targets,pred_list)\n",
        "    tn, fp, fn, tp = cm.ravel()\n",
        "    tns.append(tn)\n",
        "    fps.append(fp)\n",
        "    fns.append(fn)\n",
        "    tps.append(tp)\n",
        "\n",
        "    ts.append((tp / (tp+fn+fp)))\n",
        "    auc.append(roc_auc_score(test_targets, pred_list))\n",
        "  return fpr, tpr, thresholds, auc, ts, [tns, fps, fns, tps]"
      ]
    },
    {
      "cell_type": "code",
      "execution_count": 29,
      "metadata": {
        "colab": {
          "base_uri": "https://localhost:8080/"
        },
        "id": "54Y9q__Ma3iF",
        "outputId": "77f07004-9e3b-43aa-954d-3adccad648ec"
      },
      "outputs": [
        {
          "output_type": "stream",
          "name": "stdout",
          "text": [
            "TRAIN: 494 TEST: 124\n",
            "Threat Score: 0.3680969193469171\n",
            "\n",
            "AUC: 0.739169247403174\n",
            "Median Threshold for Max AUCs: 0.30998188\n",
            "Median Threshold for Max Threat Scores: 0.31235942\n"
          ]
        }
      ],
      "source": [
        "# import ml libraries, do training! \n",
        "from sklearn import metrics\n",
        "from sklearn.metrics import confusion_matrix\n",
        "from sklearn.metrics import roc_auc_score\n",
        "from sklearn.model_selection import RepeatedStratifiedKFold\n",
        "from xgboost import XGBClassifier\n",
        "from sklearn.model_selection import train_test_split\n",
        "rskf = RepeatedStratifiedKFold(n_splits=5, n_repeats=10,\n",
        "     random_state=0)\n",
        "\n",
        "tss = []\n",
        "aucs = []\n",
        "auc2 = []\n",
        "thresholds_aucs = []\n",
        "thresholds_tss = []\n",
        "\n",
        "\n",
        "X = features.values\n",
        "y = targets.loc[features.index].values\n",
        "i = 0\n",
        "for train_index, test_index in rskf.split(X, y):\n",
        "     if i==0:\n",
        "      print(\"TRAIN:\", len(train_index), \"TEST:\", len(test_index))\n",
        "     X_train, X_test = X[train_index], X[test_index]\n",
        "     y_train, y_test = y[train_index], y[test_index]\n",
        "     \n",
        "     \n",
        "     model = XGBClassifier(n_estimators=50,max_depth=2, learning_rate=1,\n",
        "                           tree_method='exact',eval_metric='logloss',\n",
        "                           use_label_encoder=False, scale_pos_weight=1,\n",
        "                           monotone_constraints='(1,1,1)',random_state=0)\n",
        "     model.fit(X_train, y_train.ravel())\n",
        "     \n",
        "     prob_failure = model.predict_proba(X_test)[:,1]\n",
        "     fpr, tpr, thresholds, auc, ts, cm = get_metrics(\n",
        "         y_test, prob_failure)\n",
        "     auc2.append(roc_auc_score(y_test, prob_failure))\n",
        "\n",
        "     tss.append(np.max(ts))\n",
        "     aucs.append(np.max(auc))\n",
        "     thresholds_aucs.append(thresholds[np.argmax(auc)])\n",
        "     thresholds_tss.append(thresholds[np.argmax(ts)])\n",
        "     i +=1\n",
        "print('Threat Score:',np.mean(tss))\n",
        "\n",
        "print('\\nAUC: '+str(np.mean(auc2)))\n",
        "print('Median Threshold for Max AUCs:', np.median(thresholds_aucs))\n",
        "print('Median Threshold for Max Threat Scores:', np.median(thresholds_tss))\n",
        "#print(np.max(tpr))\n",
        "#print(aucs)"
      ]
    },
    {
      "cell_type": "code",
      "execution_count": 30,
      "metadata": {
        "colab": {
          "base_uri": "https://localhost:8080/"
        },
        "id": "WvhFiRFVbdUK",
        "outputId": "9c73da18-071d-425a-d8a4-a7e087f7c92e"
      },
      "outputs": [
        {
          "output_type": "stream",
          "name": "stdout",
          "text": [
            "(469, 3)\n",
            "(123, 3)\n",
            "max auc: 0.5838249754178957\n",
            "0.2677165354330709\n"
          ]
        }
      ],
      "source": [
        "# Now recreate scenario from Staley et al.\n",
        "\n",
        "ca = gdf[gdf['Database']=='Training'] \n",
        "ius = gdf[gdf['Database']!='Training']\n",
        "\n",
        "X_train = ca[cols].drop_duplicates() # ca data as training...\n",
        "y_train = ca.loc[X_train.index,'Response']\n",
        "\n",
        "print(X_train.shape)\n",
        "print(X_test.shape)\n",
        "\n",
        "X_test = ius[cols].drop_duplicates() # ius data as testing...\n",
        "y_test = ius.loc[X_test.index,'Response']\n",
        "\n",
        "# note same model structure\n",
        "model = XGBClassifier(n_estimators=50,max_depth=2, learning_rate=1,\n",
        "                      tree_method='exact',use_label_encoder=False,eval_metric='logloss',\n",
        "                      monotone_constraints='(1,1,1)', scale_pos_weight=1,\n",
        "                      random_state=0)\n",
        "model.fit(X_train, y_train)\n",
        "\n",
        "prob_failure = model.predict_proba(X_test)[:,1]\n",
        "fpr, tpr, thresholds, auc, ts, cm = get_metrics(y_test, prob_failure)\n",
        "print('max auc:',max(auc))\n",
        "print(max(ts))"
      ]
    },
    {
      "cell_type": "markdown",
      "source": [
        "The below code is used for the Beechworth Fire Case Study:"
      ],
      "metadata": {
        "id": "mPvTE_K4p17B"
      }
    },
    {
      "cell_type": "code",
      "execution_count": 31,
      "metadata": {
        "colab": {
          "base_uri": "https://localhost:8080/"
        },
        "id": "78w1blOUKJBX",
        "outputId": "4218cbc8-46fb-440e-a8cc-8618eaf6791d"
      },
      "outputs": [
        {
          "output_type": "stream",
          "name": "stdout",
          "text": [
            "Index(['Mean_dNBR', 'SlopeBurnAreaRatio', 'MaxVal'], dtype='object')\n"
          ]
        }
      ],
      "source": [
        "print(features.columns) # feats from above model"
      ]
    },
    {
      "cell_type": "code",
      "source": [
        "# Note how \"index\" and \"MeasDay\" are daily increments \n",
        "# over which we gathered rainfall data.\n",
        "aus_ts.head()"
      ],
      "metadata": {
        "colab": {
          "base_uri": "https://localhost:8080/",
          "height": 647
        },
        "id": "ESWseNeqqFT1",
        "outputId": "43565f16-9039-4740-f4d6-8333b34154ea"
      },
      "execution_count": 32,
      "outputs": [
        {
          "output_type": "execute_result",
          "data": {
            "text/plain": [
              "                 index              MeasDay id     FireEnd    FireName  \\\n",
              "0  2009-02-09T00:00:00  2009-02-09T00:00:00  0  2009-02-01  Beechworth   \n",
              "1  2009-02-10T00:00:00  2009-02-10T00:00:00  0  2009-02-01  Beechworth   \n",
              "2  2009-02-11T00:00:00  2009-02-11T00:00:00  0  2009-02-01  Beechworth   \n",
              "3  2009-02-12T00:00:00  2009-02-12T00:00:00  0  2009-02-01  Beechworth   \n",
              "4  2009-02-13T00:00:00  2009-02-13T00:00:00  0  2009-02-01  Beechworth   \n",
              "\n",
              "    FireStart    HYBAS_ID  Mean_dLAI  Mean_dNBR  Mean_dNBR_6_month  ...  \\\n",
              "0  2009-02-01  5120606080          0   0.642107           0.616654  ...   \n",
              "1  2009-02-01  5120606080          0   0.642107           0.616654  ...   \n",
              "2  2009-02-01  5120606080          0   0.642107           0.616654  ...   \n",
              "3  2009-02-01  5120606080          0   0.642107           0.616654  ...   \n",
              "4  2009-02-01  5120606080          0   0.642107           0.616654  ...   \n",
              "\n",
              "  Visibility_6_month  MedianSlope    MaxPct    SumPct    MaxVal  SumVal RI  \\\n",
              "0                1.0    21.968311  0.001181  0.000000  0.022541     0.0  0   \n",
              "1                1.0    21.968311  0.000000  0.000000  0.000000     0.0  0   \n",
              "2                1.0    21.968311  0.025135  0.000000  0.092435     0.0  0   \n",
              "3                1.0    21.968311  0.928155  0.977522  7.970000    18.8  0   \n",
              "4                1.0    21.968311  0.000000  0.000000  0.000000     0.0  0   \n",
              "\n",
              "  RIClosestVal ZoneMaxVal                                           geometry  \n",
              "0    13.069999   0.022541  POLYGON ((146.76038 -36.46994, 146.76111 -36.4...  \n",
              "1    13.069999   0.000000  POLYGON ((146.76038 -36.46994, 146.76111 -36.4...  \n",
              "2    13.069999   0.092435  POLYGON ((146.76038 -36.46994, 146.76111 -36.4...  \n",
              "3    13.069999   7.970000  POLYGON ((146.76038 -36.46994, 146.76111 -36.4...  \n",
              "4    13.069999   0.000000  POLYGON ((146.76038 -36.46994, 146.76111 -36.4...  \n",
              "\n",
              "[5 rows x 30 columns]"
            ],
            "text/html": [
              "\n",
              "  <div id=\"df-e4b9aa91-20af-4a38-9b54-4e1afba1e2bc\">\n",
              "    <div class=\"colab-df-container\">\n",
              "      <div>\n",
              "<style scoped>\n",
              "    .dataframe tbody tr th:only-of-type {\n",
              "        vertical-align: middle;\n",
              "    }\n",
              "\n",
              "    .dataframe tbody tr th {\n",
              "        vertical-align: top;\n",
              "    }\n",
              "\n",
              "    .dataframe thead th {\n",
              "        text-align: right;\n",
              "    }\n",
              "</style>\n",
              "<table border=\"1\" class=\"dataframe\">\n",
              "  <thead>\n",
              "    <tr style=\"text-align: right;\">\n",
              "      <th></th>\n",
              "      <th>index</th>\n",
              "      <th>MeasDay</th>\n",
              "      <th>id</th>\n",
              "      <th>FireEnd</th>\n",
              "      <th>FireName</th>\n",
              "      <th>FireStart</th>\n",
              "      <th>HYBAS_ID</th>\n",
              "      <th>Mean_dLAI</th>\n",
              "      <th>Mean_dNBR</th>\n",
              "      <th>Mean_dNBR_6_month</th>\n",
              "      <th>...</th>\n",
              "      <th>Visibility_6_month</th>\n",
              "      <th>MedianSlope</th>\n",
              "      <th>MaxPct</th>\n",
              "      <th>SumPct</th>\n",
              "      <th>MaxVal</th>\n",
              "      <th>SumVal</th>\n",
              "      <th>RI</th>\n",
              "      <th>RIClosestVal</th>\n",
              "      <th>ZoneMaxVal</th>\n",
              "      <th>geometry</th>\n",
              "    </tr>\n",
              "  </thead>\n",
              "  <tbody>\n",
              "    <tr>\n",
              "      <th>0</th>\n",
              "      <td>2009-02-09T00:00:00</td>\n",
              "      <td>2009-02-09T00:00:00</td>\n",
              "      <td>0</td>\n",
              "      <td>2009-02-01</td>\n",
              "      <td>Beechworth</td>\n",
              "      <td>2009-02-01</td>\n",
              "      <td>5120606080</td>\n",
              "      <td>0</td>\n",
              "      <td>0.642107</td>\n",
              "      <td>0.616654</td>\n",
              "      <td>...</td>\n",
              "      <td>1.0</td>\n",
              "      <td>21.968311</td>\n",
              "      <td>0.001181</td>\n",
              "      <td>0.000000</td>\n",
              "      <td>0.022541</td>\n",
              "      <td>0.0</td>\n",
              "      <td>0</td>\n",
              "      <td>13.069999</td>\n",
              "      <td>0.022541</td>\n",
              "      <td>POLYGON ((146.76038 -36.46994, 146.76111 -36.4...</td>\n",
              "    </tr>\n",
              "    <tr>\n",
              "      <th>1</th>\n",
              "      <td>2009-02-10T00:00:00</td>\n",
              "      <td>2009-02-10T00:00:00</td>\n",
              "      <td>0</td>\n",
              "      <td>2009-02-01</td>\n",
              "      <td>Beechworth</td>\n",
              "      <td>2009-02-01</td>\n",
              "      <td>5120606080</td>\n",
              "      <td>0</td>\n",
              "      <td>0.642107</td>\n",
              "      <td>0.616654</td>\n",
              "      <td>...</td>\n",
              "      <td>1.0</td>\n",
              "      <td>21.968311</td>\n",
              "      <td>0.000000</td>\n",
              "      <td>0.000000</td>\n",
              "      <td>0.000000</td>\n",
              "      <td>0.0</td>\n",
              "      <td>0</td>\n",
              "      <td>13.069999</td>\n",
              "      <td>0.000000</td>\n",
              "      <td>POLYGON ((146.76038 -36.46994, 146.76111 -36.4...</td>\n",
              "    </tr>\n",
              "    <tr>\n",
              "      <th>2</th>\n",
              "      <td>2009-02-11T00:00:00</td>\n",
              "      <td>2009-02-11T00:00:00</td>\n",
              "      <td>0</td>\n",
              "      <td>2009-02-01</td>\n",
              "      <td>Beechworth</td>\n",
              "      <td>2009-02-01</td>\n",
              "      <td>5120606080</td>\n",
              "      <td>0</td>\n",
              "      <td>0.642107</td>\n",
              "      <td>0.616654</td>\n",
              "      <td>...</td>\n",
              "      <td>1.0</td>\n",
              "      <td>21.968311</td>\n",
              "      <td>0.025135</td>\n",
              "      <td>0.000000</td>\n",
              "      <td>0.092435</td>\n",
              "      <td>0.0</td>\n",
              "      <td>0</td>\n",
              "      <td>13.069999</td>\n",
              "      <td>0.092435</td>\n",
              "      <td>POLYGON ((146.76038 -36.46994, 146.76111 -36.4...</td>\n",
              "    </tr>\n",
              "    <tr>\n",
              "      <th>3</th>\n",
              "      <td>2009-02-12T00:00:00</td>\n",
              "      <td>2009-02-12T00:00:00</td>\n",
              "      <td>0</td>\n",
              "      <td>2009-02-01</td>\n",
              "      <td>Beechworth</td>\n",
              "      <td>2009-02-01</td>\n",
              "      <td>5120606080</td>\n",
              "      <td>0</td>\n",
              "      <td>0.642107</td>\n",
              "      <td>0.616654</td>\n",
              "      <td>...</td>\n",
              "      <td>1.0</td>\n",
              "      <td>21.968311</td>\n",
              "      <td>0.928155</td>\n",
              "      <td>0.977522</td>\n",
              "      <td>7.970000</td>\n",
              "      <td>18.8</td>\n",
              "      <td>0</td>\n",
              "      <td>13.069999</td>\n",
              "      <td>7.970000</td>\n",
              "      <td>POLYGON ((146.76038 -36.46994, 146.76111 -36.4...</td>\n",
              "    </tr>\n",
              "    <tr>\n",
              "      <th>4</th>\n",
              "      <td>2009-02-13T00:00:00</td>\n",
              "      <td>2009-02-13T00:00:00</td>\n",
              "      <td>0</td>\n",
              "      <td>2009-02-01</td>\n",
              "      <td>Beechworth</td>\n",
              "      <td>2009-02-01</td>\n",
              "      <td>5120606080</td>\n",
              "      <td>0</td>\n",
              "      <td>0.642107</td>\n",
              "      <td>0.616654</td>\n",
              "      <td>...</td>\n",
              "      <td>1.0</td>\n",
              "      <td>21.968311</td>\n",
              "      <td>0.000000</td>\n",
              "      <td>0.000000</td>\n",
              "      <td>0.000000</td>\n",
              "      <td>0.0</td>\n",
              "      <td>0</td>\n",
              "      <td>13.069999</td>\n",
              "      <td>0.000000</td>\n",
              "      <td>POLYGON ((146.76038 -36.46994, 146.76111 -36.4...</td>\n",
              "    </tr>\n",
              "  </tbody>\n",
              "</table>\n",
              "<p>5 rows × 30 columns</p>\n",
              "</div>\n",
              "      <button class=\"colab-df-convert\" onclick=\"convertToInteractive('df-e4b9aa91-20af-4a38-9b54-4e1afba1e2bc')\"\n",
              "              title=\"Convert this dataframe to an interactive table.\"\n",
              "              style=\"display:none;\">\n",
              "        \n",
              "  <svg xmlns=\"http://www.w3.org/2000/svg\" height=\"24px\"viewBox=\"0 0 24 24\"\n",
              "       width=\"24px\">\n",
              "    <path d=\"M0 0h24v24H0V0z\" fill=\"none\"/>\n",
              "    <path d=\"M18.56 5.44l.94 2.06.94-2.06 2.06-.94-2.06-.94-.94-2.06-.94 2.06-2.06.94zm-11 1L8.5 8.5l.94-2.06 2.06-.94-2.06-.94L8.5 2.5l-.94 2.06-2.06.94zm10 10l.94 2.06.94-2.06 2.06-.94-2.06-.94-.94-2.06-.94 2.06-2.06.94z\"/><path d=\"M17.41 7.96l-1.37-1.37c-.4-.4-.92-.59-1.43-.59-.52 0-1.04.2-1.43.59L10.3 9.45l-7.72 7.72c-.78.78-.78 2.05 0 2.83L4 21.41c.39.39.9.59 1.41.59.51 0 1.02-.2 1.41-.59l7.78-7.78 2.81-2.81c.8-.78.8-2.07 0-2.86zM5.41 20L4 18.59l7.72-7.72 1.47 1.35L5.41 20z\"/>\n",
              "  </svg>\n",
              "      </button>\n",
              "      \n",
              "  <style>\n",
              "    .colab-df-container {\n",
              "      display:flex;\n",
              "      flex-wrap:wrap;\n",
              "      gap: 12px;\n",
              "    }\n",
              "\n",
              "    .colab-df-convert {\n",
              "      background-color: #E8F0FE;\n",
              "      border: none;\n",
              "      border-radius: 50%;\n",
              "      cursor: pointer;\n",
              "      display: none;\n",
              "      fill: #1967D2;\n",
              "      height: 32px;\n",
              "      padding: 0 0 0 0;\n",
              "      width: 32px;\n",
              "    }\n",
              "\n",
              "    .colab-df-convert:hover {\n",
              "      background-color: #E2EBFA;\n",
              "      box-shadow: 0px 1px 2px rgba(60, 64, 67, 0.3), 0px 1px 3px 1px rgba(60, 64, 67, 0.15);\n",
              "      fill: #174EA6;\n",
              "    }\n",
              "\n",
              "    [theme=dark] .colab-df-convert {\n",
              "      background-color: #3B4455;\n",
              "      fill: #D2E3FC;\n",
              "    }\n",
              "\n",
              "    [theme=dark] .colab-df-convert:hover {\n",
              "      background-color: #434B5C;\n",
              "      box-shadow: 0px 1px 3px 1px rgba(0, 0, 0, 0.15);\n",
              "      filter: drop-shadow(0px 1px 2px rgba(0, 0, 0, 0.3));\n",
              "      fill: #FFFFFF;\n",
              "    }\n",
              "  </style>\n",
              "\n",
              "      <script>\n",
              "        const buttonEl =\n",
              "          document.querySelector('#df-e4b9aa91-20af-4a38-9b54-4e1afba1e2bc button.colab-df-convert');\n",
              "        buttonEl.style.display =\n",
              "          google.colab.kernel.accessAllowed ? 'block' : 'none';\n",
              "\n",
              "        async function convertToInteractive(key) {\n",
              "          const element = document.querySelector('#df-e4b9aa91-20af-4a38-9b54-4e1afba1e2bc');\n",
              "          const dataTable =\n",
              "            await google.colab.kernel.invokeFunction('convertToInteractive',\n",
              "                                                     [key], {});\n",
              "          if (!dataTable) return;\n",
              "\n",
              "          const docLinkHtml = 'Like what you see? Visit the ' +\n",
              "            '<a target=\"_blank\" href=https://colab.research.google.com/notebooks/data_table.ipynb>data table notebook</a>'\n",
              "            + ' to learn more about interactive tables.';\n",
              "          element.innerHTML = '';\n",
              "          dataTable['output_type'] = 'display_data';\n",
              "          await google.colab.output.renderOutput(dataTable, element);\n",
              "          const docLink = document.createElement('div');\n",
              "          docLink.innerHTML = docLinkHtml;\n",
              "          element.appendChild(docLink);\n",
              "        }\n",
              "      </script>\n",
              "    </div>\n",
              "  </div>\n",
              "  "
            ]
          },
          "metadata": {},
          "execution_count": 32
        }
      ]
    },
    {
      "cell_type": "code",
      "execution_count": 34,
      "metadata": {
        "id": "k0p54p6Wq5Iz"
      },
      "outputs": [],
      "source": [
        "# pull approprate data from Beechworth time series\n",
        "# cols same as listed above. \n",
        "test_feats = aus_ts[cols] "
      ]
    },
    {
      "cell_type": "code",
      "execution_count": 37,
      "metadata": {
        "id": "MvSQwKuSKAiL"
      },
      "outputs": [],
      "source": [
        "# new model, train on ALL features from recreated staley dataset\n",
        "# but same model structure, nonetheless\n",
        "model = XGBClassifier(n_estimators=50,max_depth=2, learning_rate=1,\n",
        "                      tree_method='exact',use_label_encoder=False,eval_metric='logloss',\n",
        "                      monotone_constraints='(1,1,1)', scale_pos_weight=1,\n",
        "                      random_state=0)\n",
        "model.fit(features,targets)\n",
        "probs = model.predict_proba(test_feats)[:,1]"
      ]
    },
    {
      "cell_type": "code",
      "execution_count": 38,
      "metadata": {
        "id": "KnvfWT8Ks-06"
      },
      "outputs": [],
      "source": [
        "# set the output probs as new df col\n",
        "aus_ts['Probs'] = probs"
      ]
    },
    {
      "cell_type": "code",
      "execution_count": 39,
      "metadata": {
        "id": "7zGAhvxDUwAK"
      },
      "outputs": [],
      "source": [
        "# to make the plot cleaner, only plot rainfall vals above 0.1mm\n",
        "plot_idx = aus_ts[aus_ts['MaxVal']>0.1].index"
      ]
    },
    {
      "cell_type": "markdown",
      "source": [
        "Finally, make Figure 3. Note much of the supporting components are missing as these were added in other software. "
      ],
      "metadata": {
        "id": "stLVh1mOrqAw"
      }
    },
    {
      "cell_type": "code",
      "execution_count": 41,
      "metadata": {
        "colab": {
          "base_uri": "https://localhost:8080/",
          "height": 297
        },
        "id": "CI8TyoujsxAw",
        "outputId": "9bd5e845-49b6-4a5f-8bbb-b71cfa420c5f"
      },
      "outputs": [
        {
          "output_type": "display_data",
          "data": {
            "text/plain": [
              "<Figure size 648x288 with 2 Axes>"
            ],
            "image/png": "[encoded data removed]"
          },
          "metadata": {
            "needs_background": "light"
          }
        }
      ],
      "source": [
        "fig, ax = plt.subplots(figsize=(9,4))\n",
        "\n",
        "ax1 = ax.twinx()\n",
        "ax1.bar(pd.to_datetime(aus_ts.loc[plot_idx,'MeasDay']),\n",
        "        aus_ts.loc[plot_idx,'MaxVal'],color='cornflowerblue',alpha=0.8)\n",
        "\n",
        "ax.plot(pd.to_datetime(aus_ts.loc[plot_idx,'MeasDay']),\n",
        "         aus_ts.loc[plot_idx,'Probs'],'--o',\n",
        "         c='k',zorder=2)\n",
        "ax.axhline(0.312,linewidth=1, color='k',linestyle='--')\n",
        "ax.set_ylim(0,1)\n",
        "ax.xaxis_date()\n",
        "#ax.set_zorder(ax1.get_zorder() + 1)\n",
        "ax1.set_ylim(0,33)\n",
        "ax1.set_yticks([0,2,4,6,8,10])\n",
        "\n",
        "# Make space for and rotate the x-axis tick labels\n",
        "fig.autofmt_xdate()\n",
        "plt.tight_layout()\n",
        "#fig.savefig('aus_sample_ts.png',dpi=400)"
      ]
    }
  ],
  "metadata": {
    "colab": {
      "collapsed_sections": [],
      "name": "grl_modeling_staley_data_orland_et_al.ipynb",
      "provenance": []
    },
    "kernelspec": {
      "display_name": "Python 3",
      "name": "python3"
    },
    "language_info": {
      "name": "python"
    }
  },
  "nbformat": 4,
  "nbformat_minor": 0
}